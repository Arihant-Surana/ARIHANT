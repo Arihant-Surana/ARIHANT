{
  "nbformat": 4,
  "nbformat_minor": 0,
  "metadata": {
    "colab": {
      "name": "Image Classifier",
      "provenance": [],
      "collapsed_sections": [],
      "authorship_tag": "ABX9TyMS+qo6lSW2b73G/fy/GBct",
      "include_colab_link": true
    },
    "kernelspec": {
      "name": "python3",
      "display_name": "Python 3"
    }
  },
  "cells": [
    {
      "cell_type": "markdown",
      "metadata": {
        "id": "view-in-github",
        "colab_type": "text"
      },
      "source": [
        "<a href=\"https://colab.research.google.com/github/Arihant-Surana/ARIHANT/blob/master/Image_Classifier.ipynb\" target=\"_parent\"><img src=\"https://colab.research.google.com/assets/colab-badge.svg\" alt=\"Open In Colab\"/></a>"
      ]
    },
    {
      "cell_type": "markdown",
      "metadata": {
        "id": "TkqOpbqA8nzW",
        "colab_type": "text"
      },
      "source": [
        "LOADING THE LIBRARIES AND DEPENDENCIES \n"
      ]
    },
    {
      "cell_type": "code",
      "metadata": {
        "id": "e0SO5jEengB6",
        "colab_type": "code",
        "colab": {
          "base_uri": "https://localhost:8080/",
          "height": 153
        },
        "outputId": "5a118ea4-ba73-4e71-b468-fa7a01eb2095"
      },
      "source": [
        "pip install keras    # Installing Keras "
      ],
      "execution_count": 3,
      "outputs": [
        {
          "output_type": "stream",
          "text": [
            "Requirement already satisfied: keras in /usr/local/lib/python3.6/dist-packages (2.3.1)\n",
            "Requirement already satisfied: numpy>=1.9.1 in /usr/local/lib/python3.6/dist-packages (from keras) (1.18.5)\n",
            "Requirement already satisfied: keras-preprocessing>=1.0.5 in /usr/local/lib/python3.6/dist-packages (from keras) (1.1.2)\n",
            "Requirement already satisfied: keras-applications>=1.0.6 in /usr/local/lib/python3.6/dist-packages (from keras) (1.0.8)\n",
            "Requirement already satisfied: scipy>=0.14 in /usr/local/lib/python3.6/dist-packages (from keras) (1.4.1)\n",
            "Requirement already satisfied: pyyaml in /usr/local/lib/python3.6/dist-packages (from keras) (3.13)\n",
            "Requirement already satisfied: six>=1.9.0 in /usr/local/lib/python3.6/dist-packages (from keras) (1.12.0)\n",
            "Requirement already satisfied: h5py in /usr/local/lib/python3.6/dist-packages (from keras) (2.10.0)\n"
          ],
          "name": "stdout"
        }
      ]
    },
    {
      "cell_type": "code",
      "metadata": {
        "id": "JHbPCGoq3Vg4",
        "colab_type": "code",
        "colab": {
          "base_uri": "https://localhost:8080/",
          "height": 680
        },
        "outputId": "b0f4b8c9-25e3-406f-ca63-72839fbf31a8"
      },
      "source": [
        "!pip install tensorflow==1.14.0  # Installing Tensor Flow "
      ],
      "execution_count": 4,
      "outputs": [
        {
          "output_type": "stream",
          "text": [
            "Collecting tensorflow==1.14.0\n",
            "\u001b[?25l  Downloading https://files.pythonhosted.org/packages/de/f0/96fb2e0412ae9692dbf400e5b04432885f677ad6241c088ccc5fe7724d69/tensorflow-1.14.0-cp36-cp36m-manylinux1_x86_64.whl (109.2MB)\n",
            "\u001b[K     |████████████████████████████████| 109.2MB 88kB/s \n",
            "\u001b[?25hRequirement already satisfied: google-pasta>=0.1.6 in /usr/local/lib/python3.6/dist-packages (from tensorflow==1.14.0) (0.2.0)\n",
            "Collecting tensorboard<1.15.0,>=1.14.0\n",
            "\u001b[?25l  Downloading https://files.pythonhosted.org/packages/91/2d/2ed263449a078cd9c8a9ba50ebd50123adf1f8cfbea1492f9084169b89d9/tensorboard-1.14.0-py3-none-any.whl (3.1MB)\n",
            "\u001b[K     |████████████████████████████████| 3.2MB 44.1MB/s \n",
            "\u001b[?25hRequirement already satisfied: numpy<2.0,>=1.14.5 in /usr/local/lib/python3.6/dist-packages (from tensorflow==1.14.0) (1.18.5)\n",
            "Requirement already satisfied: gast>=0.2.0 in /usr/local/lib/python3.6/dist-packages (from tensorflow==1.14.0) (0.3.3)\n",
            "Requirement already satisfied: six>=1.10.0 in /usr/local/lib/python3.6/dist-packages (from tensorflow==1.14.0) (1.12.0)\n",
            "Requirement already satisfied: keras-applications>=1.0.6 in /usr/local/lib/python3.6/dist-packages (from tensorflow==1.14.0) (1.0.8)\n",
            "Requirement already satisfied: grpcio>=1.8.6 in /usr/local/lib/python3.6/dist-packages (from tensorflow==1.14.0) (1.30.0)\n",
            "Requirement already satisfied: protobuf>=3.6.1 in /usr/local/lib/python3.6/dist-packages (from tensorflow==1.14.0) (3.10.0)\n",
            "Requirement already satisfied: termcolor>=1.1.0 in /usr/local/lib/python3.6/dist-packages (from tensorflow==1.14.0) (1.1.0)\n",
            "Requirement already satisfied: astor>=0.6.0 in /usr/local/lib/python3.6/dist-packages (from tensorflow==1.14.0) (0.8.1)\n",
            "Requirement already satisfied: wrapt>=1.11.1 in /usr/local/lib/python3.6/dist-packages (from tensorflow==1.14.0) (1.12.1)\n",
            "Requirement already satisfied: absl-py>=0.7.0 in /usr/local/lib/python3.6/dist-packages (from tensorflow==1.14.0) (0.9.0)\n",
            "Requirement already satisfied: wheel>=0.26 in /usr/local/lib/python3.6/dist-packages (from tensorflow==1.14.0) (0.34.2)\n",
            "Collecting tensorflow-estimator<1.15.0rc0,>=1.14.0rc0\n",
            "\u001b[?25l  Downloading https://files.pythonhosted.org/packages/3c/d5/21860a5b11caf0678fbc8319341b0ae21a07156911132e0e71bffed0510d/tensorflow_estimator-1.14.0-py2.py3-none-any.whl (488kB)\n",
            "\u001b[K     |████████████████████████████████| 491kB 30.7MB/s \n",
            "\u001b[?25hRequirement already satisfied: keras-preprocessing>=1.0.5 in /usr/local/lib/python3.6/dist-packages (from tensorflow==1.14.0) (1.1.2)\n",
            "Requirement already satisfied: werkzeug>=0.11.15 in /usr/local/lib/python3.6/dist-packages (from tensorboard<1.15.0,>=1.14.0->tensorflow==1.14.0) (1.0.1)\n",
            "Requirement already satisfied: setuptools>=41.0.0 in /usr/local/lib/python3.6/dist-packages (from tensorboard<1.15.0,>=1.14.0->tensorflow==1.14.0) (49.1.0)\n",
            "Requirement already satisfied: markdown>=2.6.8 in /usr/local/lib/python3.6/dist-packages (from tensorboard<1.15.0,>=1.14.0->tensorflow==1.14.0) (3.2.2)\n",
            "Requirement already satisfied: h5py in /usr/local/lib/python3.6/dist-packages (from keras-applications>=1.0.6->tensorflow==1.14.0) (2.10.0)\n",
            "Requirement already satisfied: importlib-metadata; python_version < \"3.8\" in /usr/local/lib/python3.6/dist-packages (from markdown>=2.6.8->tensorboard<1.15.0,>=1.14.0->tensorflow==1.14.0) (1.7.0)\n",
            "Requirement already satisfied: zipp>=0.5 in /usr/local/lib/python3.6/dist-packages (from importlib-metadata; python_version < \"3.8\"->markdown>=2.6.8->tensorboard<1.15.0,>=1.14.0->tensorflow==1.14.0) (3.1.0)\n",
            "Installing collected packages: tensorboard, tensorflow-estimator, tensorflow\n",
            "  Found existing installation: tensorboard 2.2.2\n",
            "    Uninstalling tensorboard-2.2.2:\n",
            "      Successfully uninstalled tensorboard-2.2.2\n",
            "  Found existing installation: tensorflow-estimator 2.2.0\n",
            "    Uninstalling tensorflow-estimator-2.2.0:\n",
            "      Successfully uninstalled tensorflow-estimator-2.2.0\n",
            "  Found existing installation: tensorflow 2.2.0\n",
            "    Uninstalling tensorflow-2.2.0:\n",
            "      Successfully uninstalled tensorflow-2.2.0\n",
            "Successfully installed tensorboard-1.14.0 tensorflow-1.14.0 tensorflow-estimator-1.14.0\n"
          ],
          "name": "stdout"
        }
      ]
    },
    {
      "cell_type": "code",
      "metadata": {
        "id": "0nPgf-5r3oRA",
        "colab_type": "code",
        "colab": {
          "base_uri": "https://localhost:8080/",
          "height": 34
        },
        "outputId": "9be29569-9c0a-49f5-9e6d-5b5f5cc67e60"
      },
      "source": [
        "import tensorflow as tf\n",
        "print(tf.__version__)\n",
        "from keras.backend.tensorflow_backend import set_session\n",
        "from keras.models import Sequential\n",
        "from keras import applications\n",
        "\n",
        "import tensorflow as tf\n"
      ],
      "execution_count": 21,
      "outputs": [
        {
          "output_type": "stream",
          "text": [
            "1.14.0\n"
          ],
          "name": "stdout"
        }
      ]
    },
    {
      "cell_type": "markdown",
      "metadata": {
        "id": "VxVXySPN8fOc",
        "colab_type": "text"
      },
      "source": [
        "INITIALIZING DATA AND LOADING THE LIBRARY \n"
      ]
    },
    {
      "cell_type": "code",
      "metadata": {
        "id": "KhaA_txjnynO",
        "colab_type": "code",
        "colab": {}
      },
      "source": [
        "#load the data\n",
        "from keras.datasets import cifar10\n",
        "(train_x,train_y),(x_test,y_test)=cifar10.load_data()\n",
        " #initializing 4 variables\n"
      ],
      "execution_count": 8,
      "outputs": []
    },
    {
      "cell_type": "code",
      "metadata": {
        "id": "i96BKnF6ov0I",
        "colab_type": "code",
        "colab": {
          "base_uri": "https://localhost:8080/",
          "height": 850
        },
        "outputId": "769e419b-c259-4001-ab5c-d0b79689f180"
      },
      "source": [
        "                                #Take a look at the first image located at(x=0) in the trainind i.e train_x data set\n",
        "train_x[0]\n",
        "                                # we get back the array of the pixels \n",
        "                                #value 59 corresponds to Red  62 corresponds to Green 63 corresponds to Blue in the first row."
      ],
      "execution_count": 10,
      "outputs": [
        {
          "output_type": "execute_result",
          "data": {
            "text/plain": [
              "array([[[ 59,  62,  63],\n",
              "        [ 43,  46,  45],\n",
              "        [ 50,  48,  43],\n",
              "        ...,\n",
              "        [158, 132, 108],\n",
              "        [152, 125, 102],\n",
              "        [148, 124, 103]],\n",
              "\n",
              "       [[ 16,  20,  20],\n",
              "        [  0,   0,   0],\n",
              "        [ 18,   8,   0],\n",
              "        ...,\n",
              "        [123,  88,  55],\n",
              "        [119,  83,  50],\n",
              "        [122,  87,  57]],\n",
              "\n",
              "       [[ 25,  24,  21],\n",
              "        [ 16,   7,   0],\n",
              "        [ 49,  27,   8],\n",
              "        ...,\n",
              "        [118,  84,  50],\n",
              "        [120,  84,  50],\n",
              "        [109,  73,  42]],\n",
              "\n",
              "       ...,\n",
              "\n",
              "       [[208, 170,  96],\n",
              "        [201, 153,  34],\n",
              "        [198, 161,  26],\n",
              "        ...,\n",
              "        [160, 133,  70],\n",
              "        [ 56,  31,   7],\n",
              "        [ 53,  34,  20]],\n",
              "\n",
              "       [[180, 139,  96],\n",
              "        [173, 123,  42],\n",
              "        [186, 144,  30],\n",
              "        ...,\n",
              "        [184, 148,  94],\n",
              "        [ 97,  62,  34],\n",
              "        [ 83,  53,  34]],\n",
              "\n",
              "       [[177, 144, 116],\n",
              "        [168, 129,  94],\n",
              "        [179, 142,  87],\n",
              "        ...,\n",
              "        [216, 184, 140],\n",
              "        [151, 118,  84],\n",
              "        [123,  92,  72]]], dtype=uint8)"
            ]
          },
          "metadata": {
            "tags": []
          },
          "execution_count": 10
        }
      ]
    },
    {
      "cell_type": "markdown",
      "metadata": {
        "id": "JLK5_d7E_Uo1",
        "colab_type": "text"
      },
      "source": [
        "DISPLAYING AN IMAGE TO SHOW THAT THE DATA SET IS LOADED \n"
      ]
    },
    {
      "cell_type": "code",
      "metadata": {
        "id": "HE1ubIIdrHCM",
        "colab_type": "code",
        "colab": {
          "base_uri": "https://localhost:8080/",
          "height": 283
        },
        "outputId": "8a3b59aa-6974-4a03-e59a-f5adabe8c06c"
      },
      "source": [
        "                                                    # Showing image as picture\n",
        "                                                    # we have to use another library called matplotlib\n",
        "import matplotlib.pyplot as plt                     # giving matplotlib an alias =  plt\n",
        "img=plt.imshow(train_x[2])                          # showing the first image\n",
        "  \n",
        "                                                    # We cannot understand the image, this can be solved by the label. Labels are located at the y_train data set\n",
        "                                                    # printing the label\n",
        "print('Lable is:', train_y[2])\n",
        "\n",
        "\n"
      ],
      "execution_count": 17,
      "outputs": [
        {
          "output_type": "stream",
          "text": [
            "Lable is: [9]\n"
          ],
          "name": "stdout"
        },
        {
          "output_type": "display_data",
          "data": {
            "image/png": "[encoded data removed]",
            "text/plain": [
              "<Figure size 432x288 with 1 Axes>"
            ]
          },
          "metadata": {
            "tags": [],
            "needs_background": "light"
          }
        }
      ]
    },
    {
      "cell_type": "code",
      "metadata": {
        "id": "aXM_7UUdvTI6",
        "colab_type": "code",
        "colab": {
          "base_uri": "https://localhost:8080/",
          "height": 283
        },
        "outputId": "9a947629-bb7b-434b-c7ac-b3dc41ad4cb0"
      },
      "source": [
        "img=plt.imshow(train_x[7])                      # showing the sixth image\n",
        "print('Lable is:', train_y[7])"
      ],
      "execution_count": 18,
      "outputs": [
        {
          "output_type": "stream",
          "text": [
            "Lable is: [7]\n"
          ],
          "name": "stdout"
        },
        {
          "output_type": "display_data",
          "data": {
            "image/png": "[encoded data removed]",
            "text/plain": [
              "<Figure size 432x288 with 1 Axes>"
            ]
          },
          "metadata": {
            "tags": [],
            "needs_background": "light"
          }
        }
      ]
    },
    {
      "cell_type": "markdown",
      "metadata": {
        "id": "dMAil_2D_lQs",
        "colab_type": "text"
      },
      "source": [
        "ONE - HOT ENCODING\n"
      ]
    },
    {
      "cell_type": "code",
      "metadata": {
        "id": "Os8puIE0qynz",
        "colab_type": "code",
        "colab": {
          "base_uri": "https://localhost:8080/",
          "height": 272
        },
        "outputId": "b27f6b5a-6bf8-4c3f-fa54-c8b06cc3f430"
      },
      "source": [
        "                                                  # One-Hot Encoding::Converting the lables into a set of 10 numbers  to input into the neural network\n",
        "from keras.utils import to_categorical            #inbuilt in keras Library to categorise\n",
        "train_y_one_hot= to_categorical(train_y)          # using to categorical function\n",
        "y_test_one_hot=to_categorical(y_test)\n",
        "\n",
        "                                                  #prininting the new lables \n",
        "print(train_y_one_hot)\n",
        "print('*.*.*.*.*.')\n",
        "print(y_test_one_hot)\n"
      ],
      "execution_count": 20,
      "outputs": [
        {
          "output_type": "stream",
          "text": [
            "[[0. 0. 0. ... 0. 0. 0.]\n",
            " [0. 0. 0. ... 0. 0. 1.]\n",
            " [0. 0. 0. ... 0. 0. 1.]\n",
            " ...\n",
            " [0. 0. 0. ... 0. 0. 1.]\n",
            " [0. 1. 0. ... 0. 0. 0.]\n",
            " [0. 1. 0. ... 0. 0. 0.]]\n",
            "*.*.*.*.*.\n",
            "[[0. 0. 0. ... 0. 0. 0.]\n",
            " [0. 0. 0. ... 0. 1. 0.]\n",
            " [0. 0. 0. ... 0. 1. 0.]\n",
            " ...\n",
            " [0. 0. 0. ... 0. 0. 0.]\n",
            " [0. 1. 0. ... 0. 0. 0.]\n",
            " [0. 0. 0. ... 1. 0. 0.]]\n"
          ],
          "name": "stdout"
        }
      ]
    },
    {
      "cell_type": "code",
      "metadata": {
        "id": "8DCsMLmitEYH",
        "colab_type": "code",
        "colab": {
          "base_uri": "https://localhost:8080/",
          "height": 34
        },
        "outputId": "624bcbab-b745-4789-e46d-7cf5041c78f6"
      },
      "source": [
        "                                                    #print the example of new labels\n",
        "print('The one hot label is:',train_y_one_hot[7])\n",
        "                                                    # you can see that The value 1 corresponds to the postion 6 which is the value of the label initially beforre \n",
        "                                                    #-converting. Rest all values are 0 ranging from 0-10\n"
      ],
      "execution_count": 23,
      "outputs": [
        {
          "output_type": "stream",
          "text": [
            "The one hot label is: [0. 0. 0. 0. 0. 0. 0. 1. 0. 0.]\n"
          ],
          "name": "stdout"
        }
      ]
    },
    {
      "cell_type": "markdown",
      "metadata": {
        "id": "IDVs4feoAgup",
        "colab_type": "text"
      },
      "source": [
        "NORMALIZE DATA SET \n"
      ]
    },
    {
      "cell_type": "code",
      "metadata": {
        "id": "HuiOr72BtjF_",
        "colab_type": "code",
        "colab": {}
      },
      "source": [
        "                                                      # Next step is to normalize the pixels in the data set...\n",
        "                                                      # Normalize the pixels in the images to be values between 0 and 1 (we have to divide by 255) as pixel range is b/w 0-255\n",
        "train_x=train_x/255\n",
        "x_test=x_test/255\n",
        "\n"
      ],
      "execution_count": 24,
      "outputs": []
    },
    {
      "cell_type": "markdown",
      "metadata": {
        "id": "nGww1HbpA271",
        "colab_type": "text"
      },
      "source": [
        "CREATING CNN "
      ]
    },
    {
      "cell_type": "code",
      "metadata": {
        "id": "ueHcM5Dlu2E1",
        "colab_type": "code",
        "colab": {
          "base_uri": "https://localhost:8080/",
          "height": 51
        },
        "outputId": "dee41dfd-39dc-41e6-ceca-edf9f16e6cfa"
      },
      "source": [
        "from keras.models import Sequential\n",
        "from keras.layers import Dense, Flatten, Conv2D, MaxPooling2D\n",
        "\n",
        "model = Sequential()                                       #  Create the architecture\n",
        "\n",
        "                                                          # Convolution layer to extract features from the input image, and create 32 ReLu\n",
        "                                                          # 5x5 convolved features/layers aka feature map.\n",
        "                                                          # Note:You must input the input shape only in this first layer.\n",
        "                                                          # number of output channels or convolution filters = 32\n",
        "                                                          # number of rows in the convolution kernel\n",
        "                                                          # number of cols in the convolution kernel\n",
        "                                                          # input shape 32x32 RGB image, so spacially it's 3-Dimensional\n",
        "                                                          # activation function Rectifier Linear Unit aka (ReLu)\n",
        "model.add(Conv2D(32, (5, 5), activation='relu', input_shape=(32,32,3))) \n",
        "\n",
        "\n",
        "                                                          # Pooling layer with a 2x2 filter to get the max element from the convolved features , \n",
        "                                                          # this reduces the dimensionality by half e.g. 16x16, aka sub sampling\n",
        "                                                          # Note: the default for stride is the pool_size\n",
        "model.add(MaxPooling2D(pool_size=(2, 2)))\n",
        "\n",
        "\n",
        "\n",
        "                                                          # 2nd Convolution layer with 64 channels\n",
        "model.add(Conv2D(64, (5, 5), activation='relu'))\n",
        "\n",
        "                                                          # Adding second Max Pooling layer\n",
        "model.add(MaxPooling2D(pool_size=(2, 2)))\n",
        "\n",
        "                                                          # Flattening, Flattens the input. Does not affect the batch size. \n",
        "                                                          # (Flattening occurs when you reduce all layers to one background layer), \n",
        "                                                          # this makes the image a linear array or 1D Array or 1D Vector to \n",
        "                                                          # feed into or connect with the neural network\n",
        "model.add(Flatten())\n",
        "model.add(Dense(1000, activation='relu'))                 # a layer with 1000 neurons and activation function ReLu\n",
        "model.add(Dense(10, activation='softmax'))                #a layer with 10 output neurons for each label using softmax activation function"
      ],
      "execution_count": 25,
      "outputs": [
        {
          "output_type": "stream",
          "text": [
            "WARNING:tensorflow:From /usr/local/lib/python3.6/dist-packages/keras/backend/tensorflow_backend.py:4070: The name tf.nn.max_pool is deprecated. Please use tf.nn.max_pool2d instead.\n",
            "\n"
          ],
          "name": "stdout"
        }
      ]
    },
    {
      "cell_type": "markdown",
      "metadata": {
        "id": "gTWsk76jB_my",
        "colab_type": "text"
      },
      "source": [
        "COMPILE"
      ]
    },
    {
      "cell_type": "code",
      "metadata": {
        "id": "QKPx_4nby01z",
        "colab_type": "code",
        "colab": {}
      },
      "source": [
        "\n",
        "model.compile(loss='categorical_crossentropy',optimizer ='adam',metrics=['accuracy'])\n",
        "\n"
      ],
      "execution_count": 26,
      "outputs": []
    },
    {
      "cell_type": "markdown",
      "metadata": {
        "id": "UopbmvldCcFq",
        "colab_type": "text"
      },
      "source": [
        "TRAIN"
      ]
    },
    {
      "cell_type": "code",
      "metadata": {
        "id": "CcIk0jMsz60i",
        "colab_type": "code",
        "colab": {
          "base_uri": "https://localhost:8080/",
          "height": 918
        },
        "outputId": "4f4bdc1b-da26-462f-e132-3a5fb9b5496b"
      },
      "source": [
        "#Train the model\n",
        "hist=model.fit(train_x,train_y_one_hot, batch_size=256, epochs=25, validation_split=0.3)\n"
      ],
      "execution_count": 27,
      "outputs": [
        {
          "output_type": "stream",
          "text": [
            "WARNING:tensorflow:From /usr/local/lib/python3.6/dist-packages/keras/backend/tensorflow_backend.py:422: The name tf.global_variables is deprecated. Please use tf.compat.v1.global_variables instead.\n",
            "\n",
            "Train on 35000 samples, validate on 15000 samples\n",
            "Epoch 1/25\n",
            "35000/35000 [==============================] - 72s 2ms/step - loss: 1.6745 - accuracy: 0.3923 - val_loss: 1.4194 - val_accuracy: 0.4885\n",
            "Epoch 2/25\n",
            "35000/35000 [==============================] - 73s 2ms/step - loss: 1.3156 - accuracy: 0.5265 - val_loss: 1.2335 - val_accuracy: 0.5626\n",
            "Epoch 3/25\n",
            "35000/35000 [==============================] - 73s 2ms/step - loss: 1.1680 - accuracy: 0.5853 - val_loss: 1.2037 - val_accuracy: 0.5719\n",
            "Epoch 4/25\n",
            "35000/35000 [==============================] - 73s 2ms/step - loss: 1.0458 - accuracy: 0.6308 - val_loss: 1.0748 - val_accuracy: 0.6202\n",
            "Epoch 5/25\n",
            "35000/35000 [==============================] - 74s 2ms/step - loss: 0.9517 - accuracy: 0.6673 - val_loss: 1.0409 - val_accuracy: 0.6328\n",
            "Epoch 6/25\n",
            "35000/35000 [==============================] - 73s 2ms/step - loss: 0.8613 - accuracy: 0.6993 - val_loss: 0.9953 - val_accuracy: 0.6517\n",
            "Epoch 7/25\n",
            "35000/35000 [==============================] - 73s 2ms/step - loss: 0.7773 - accuracy: 0.7301 - val_loss: 0.9695 - val_accuracy: 0.6636\n",
            "Epoch 8/25\n",
            "35000/35000 [==============================] - 73s 2ms/step - loss: 0.7088 - accuracy: 0.7543 - val_loss: 1.0159 - val_accuracy: 0.6582\n",
            "Epoch 9/25\n",
            "35000/35000 [==============================] - 73s 2ms/step - loss: 0.6249 - accuracy: 0.7865 - val_loss: 0.9516 - val_accuracy: 0.6758\n",
            "Epoch 10/25\n",
            "35000/35000 [==============================] - 73s 2ms/step - loss: 0.5476 - accuracy: 0.8142 - val_loss: 0.9414 - val_accuracy: 0.6903\n",
            "Epoch 11/25\n",
            "35000/35000 [==============================] - 73s 2ms/step - loss: 0.4708 - accuracy: 0.8412 - val_loss: 1.0120 - val_accuracy: 0.6701\n",
            "Epoch 12/25\n",
            "35000/35000 [==============================] - 73s 2ms/step - loss: 0.3884 - accuracy: 0.8720 - val_loss: 1.0032 - val_accuracy: 0.6889\n",
            "Epoch 13/25\n",
            "35000/35000 [==============================] - 74s 2ms/step - loss: 0.3186 - accuracy: 0.8983 - val_loss: 1.0593 - val_accuracy: 0.6891\n",
            "Epoch 14/25\n",
            "35000/35000 [==============================] - 73s 2ms/step - loss: 0.2508 - accuracy: 0.9212 - val_loss: 1.1203 - val_accuracy: 0.6879\n",
            "Epoch 15/25\n",
            "35000/35000 [==============================] - 73s 2ms/step - loss: 0.1889 - accuracy: 0.9433 - val_loss: 1.1925 - val_accuracy: 0.6819\n",
            "Epoch 16/25\n",
            "35000/35000 [==============================] - 73s 2ms/step - loss: 0.1437 - accuracy: 0.9594 - val_loss: 1.3058 - val_accuracy: 0.6783\n",
            "Epoch 17/25\n",
            "35000/35000 [==============================] - 73s 2ms/step - loss: 0.1022 - accuracy: 0.9721 - val_loss: 1.3829 - val_accuracy: 0.6874\n",
            "Epoch 18/25\n",
            "35000/35000 [==============================] - 73s 2ms/step - loss: 0.0735 - accuracy: 0.9835 - val_loss: 1.4168 - val_accuracy: 0.6955\n",
            "Epoch 19/25\n",
            "35000/35000 [==============================] - 73s 2ms/step - loss: 0.0484 - accuracy: 0.9907 - val_loss: 1.5239 - val_accuracy: 0.6844\n",
            "Epoch 20/25\n",
            "35000/35000 [==============================] - 73s 2ms/step - loss: 0.0402 - accuracy: 0.9921 - val_loss: 1.6728 - val_accuracy: 0.6775\n",
            "Epoch 21/25\n",
            "35000/35000 [==============================] - 73s 2ms/step - loss: 0.0260 - accuracy: 0.9959 - val_loss: 1.6812 - val_accuracy: 0.6864\n",
            "Epoch 22/25\n",
            "35000/35000 [==============================] - 74s 2ms/step - loss: 0.0142 - accuracy: 0.9986 - val_loss: 1.7211 - val_accuracy: 0.6916\n",
            "Epoch 23/25\n",
            "35000/35000 [==============================] - 72s 2ms/step - loss: 0.0074 - accuracy: 0.9998 - val_loss: 1.8051 - val_accuracy: 0.6997\n",
            "Epoch 24/25\n",
            "35000/35000 [==============================] - 73s 2ms/step - loss: 0.0046 - accuracy: 0.9998 - val_loss: 1.8749 - val_accuracy: 0.6979\n",
            "Epoch 25/25\n",
            "35000/35000 [==============================] - 73s 2ms/step - loss: 0.0033 - accuracy: 0.9999 - val_loss: 1.9231 - val_accuracy: 0.7005\n"
          ],
          "name": "stdout"
        }
      ]
    },
    {
      "cell_type": "markdown",
      "metadata": {
        "id": "FSiTuXNZCatS",
        "colab_type": "text"
      },
      "source": [
        ""
      ]
    },
    {
      "cell_type": "markdown",
      "metadata": {
        "id": "cABPho0dCiP_",
        "colab_type": "text"
      },
      "source": [
        "ACCURACY "
      ]
    },
    {
      "cell_type": "code",
      "metadata": {
        "id": "ADh5I0fu6Z45",
        "colab_type": "code",
        "colab": {
          "base_uri": "https://localhost:8080/",
          "height": 68
        },
        "outputId": "0b45420e-323e-4a05-9eb6-bb416283b1e4"
      },
      "source": [
        "# printing the model accuracy \n",
        "print('Model accuracy-->>')\n",
        "model.evaluate(x_test,y_test_one_hot)[1]"
      ],
      "execution_count": 31,
      "outputs": [
        {
          "output_type": "stream",
          "text": [
            "Model accuracy-->>\n",
            "10000/10000 [==============================] - 6s 625us/step\n"
          ],
          "name": "stdout"
        },
        {
          "output_type": "execute_result",
          "data": {
            "text/plain": [
              "0.6902999877929688"
            ]
          },
          "metadata": {
            "tags": []
          },
          "execution_count": 31
        }
      ]
    },
    {
      "cell_type": "markdown",
      "metadata": {
        "id": "LWUSZ1kIClFo",
        "colab_type": "text"
      },
      "source": [
        "VISUALISATION VIA MATPLOTLIB"
      ]
    },
    {
      "cell_type": "code",
      "metadata": {
        "id": "o9gym-u96ipr",
        "colab_type": "code",
        "colab": {
          "base_uri": "https://localhost:8080/",
          "height": 295
        },
        "outputId": "56d8f49c-7c16-4deb-bcab-cc97fb0dd9bf"
      },
      "source": [
        "#visualize the models accuracy  \n",
        "\n",
        "plt.plot(hist.history['accuracy'])\n",
        "plt.plot(hist.history['val_accuracy'])\n",
        "plt.title('Model Accuracy')\n",
        "plt.ylabel(\"Image Accuracy\")\n",
        "plt.xlabel(\"Epoch\")\n",
        "plt.legend(['Train','Val'], loc='upper left')\n",
        "plt.show()"
      ],
      "execution_count": 32,
      "outputs": [
        {
          "output_type": "display_data",
          "data": {
            "image/png": "[encoded data removed]",
            "text/plain": [
              "<Figure size 432x288 with 1 Axes>"
            ]
          },
          "metadata": {
            "tags": [],
            "needs_background": "light"
          }
        }
      ]
    },
    {
      "cell_type": "code",
      "metadata": {
        "id": "Oq3tZtsv6mW9",
        "colab_type": "code",
        "colab": {
          "base_uri": "https://localhost:8080/",
          "height": 295
        },
        "outputId": "dcf6e093-b07d-47ea-f776-8ce4689f4768"
      },
      "source": [
        "#visualize the models loss\n",
        "\n",
        "plt.plot(hist.history['loss'])\n",
        "plt.plot(hist.history['val_loss'])\n",
        "plt.title('Model Loss')\n",
        "plt.ylabel(\"Image Loss\")\n",
        "plt.xlabel(\"Epoch\")\n",
        "plt.legend(['Train','Val'], loc='upper right')\n",
        "plt.show()"
      ],
      "execution_count": 33,
      "outputs": [
        {
          "output_type": "display_data",
          "data": {
            "image/png": "[encoded data removed]",
            "text/plain": [
              "<Figure size 432x288 with 1 Axes>"
            ]
          },
          "metadata": {
            "tags": [],
            "needs_background": "light"
          }
        }
      ]
    },
    {
      "cell_type": "markdown",
      "metadata": {
        "id": "WZX06LUWDIF9",
        "colab_type": "text"
      },
      "source": [
        "UPLOADING THE IMAGE FROM THE COMPUTER"
      ]
    },
    {
      "cell_type": "code",
      "metadata": {
        "id": "s84OPOgWBqff",
        "colab_type": "code",
        "colab": {
          "resources": {
            "http://localhost:8080/nbextensions/google.colab/files.js": {
              "data": "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",
              "ok": true,
              "headers": [
                [
                  "content-type",
                  "application/javascript"
                ]
              ],
              "status": 200,
              "status_text": ""
            }
          },
          "base_uri": "https://localhost:8080/",
          "height": 72
        },
        "outputId": "11e28844-c3a0-42c7-c655-8a703f78ba57"
      },
      "source": [
        "from google.colab import files\n",
        "uploaded = files.upload()\n",
        "my_image=plt.imread('truck.jpg')"
      ],
      "execution_count": null,
      "outputs": [
        {
          "output_type": "display_data",
          "data": {
            "text/html": [
              "\n",
              "     <input type=\"file\" id=\"files-d6c3c018-d039-49c0-9f6e-61cf11596625\" name=\"files[]\" multiple disabled\n",
              "        style=\"border:none\" />\n",
              "     <output id=\"result-d6c3c018-d039-49c0-9f6e-61cf11596625\">\n",
              "      Upload widget is only available when the cell has been executed in the\n",
              "      current browser session. Please rerun this cell to enable.\n",
              "      </output>\n",
              "      <script src=\"/nbextensions/google.colab/files.js\"></script> "
            ],
            "text/plain": [
              "<IPython.core.display.HTML object>"
            ]
          },
          "metadata": {
            "tags": []
          }
        },
        {
          "output_type": "stream",
          "text": [
            "Saving truck.jpg to truck (1).jpg\n"
          ],
          "name": "stdout"
        }
      ]
    },
    {
      "cell_type": "markdown",
      "metadata": {
        "id": "hBA6K1ZEDLxC",
        "colab_type": "text"
      },
      "source": [
        "DISPLAYING THE UPLOADED IMAGE "
      ]
    },
    {
      "cell_type": "code",
      "metadata": {
        "id": "GLbW31BVEMw-",
        "colab_type": "code",
        "colab": {
          "base_uri": "https://localhost:8080/",
          "height": 168
        },
        "outputId": "ab20cdab-4cba-4633-9838-222f6d555dba"
      },
      "source": [
        "#show the uploaded image\n",
        "img = plt.imshow(my_image)"
      ],
      "execution_count": null,
      "outputs": [
        {
          "output_type": "display_data",
          "data": {
            "image/png": "[encoded data removed]",
            "text/plain": [
              "<Figure size 432x288 with 1 Axes>"
            ]
          },
          "metadata": {
            "tags": [],
            "needs_background": "light"
          }
        }
      ]
    },
    {
      "cell_type": "code",
      "metadata": {
        "id": "ohPTOPigL5t7",
        "colab_type": "code",
        "colab": {
          "base_uri": "https://localhost:8080/",
          "height": 266
        },
        "outputId": "2409d7b5-4a78-43c8-e9c9-fd45b7f53c92"
      },
      "source": [
        "#Resize the image using sk-image library\n",
        "from skimage.transform import resize\n",
        "my_image_resized=resize(my_image,(32,32,3))\n",
        "img=plt.imshow(my_image_resized)"
      ],
      "execution_count": null,
      "outputs": [
        {
          "output_type": "display_data",
          "data": {
            "image/png": "[encoded data removed]",
            "text/plain": [
              "<Figure size 432x288 with 1 Axes>"
            ]
          },
          "metadata": {
            "tags": [],
            "needs_background": "light"
          }
        }
      ]
    },
    {
      "cell_type": "code",
      "metadata": {
        "id": "zY3TJFgLMpIR",
        "colab_type": "code",
        "colab": {
          "base_uri": "https://localhost:8080/",
          "height": 68
        },
        "outputId": "65519545-2d15-4bc3-ff18-1485729345f2"
      },
      "source": [
        "# Getting the probability for each class \n",
        "import numpy as np\n",
        "probabilities = model.predict(np.array([my_image_resized,]))          # we have to put the image in an array\n",
        "\n",
        "                                                                      #printing the probabilities \n",
        "probabilities\n"
      ],
      "execution_count": null,
      "outputs": [
        {
          "output_type": "execute_result",
          "data": {
            "text/plain": [
              "array([[2.1184547e-10, 1.3086101e-09, 8.8647187e-07, 5.4871161e-09,\n",
              "        3.8808185e-08, 5.2460720e-08, 2.2419797e-15, 1.3245478e-06,\n",
              "        7.6241697e-05, 9.9992144e-01]], dtype=float32)"
            ]
          },
          "metadata": {
            "tags": []
          },
          "execution_count": 67
        }
      ]
    },
    {
      "cell_type": "markdown",
      "metadata": {
        "id": "cUOB3KkwEGPd",
        "colab_type": "text"
      },
      "source": [
        "OUTPUT IN THE FORM OF PROBABILITIES "
      ]
    },
    {
      "cell_type": "code",
      "metadata": {
        "id": "L1tnhIm7NAM1",
        "colab_type": "code",
        "colab": {
          "base_uri": "https://localhost:8080/",
          "height": 68
        },
        "outputId": "ae30e174-98a3-41c8-e645-f017db168cc5"
      },
      "source": [
        "number_to_class=['airplane','automobile','bird','cat','Deer','Dog','Frog','Horse','Ship','Truck']\n",
        "index=np.argsort(probabilities[0,:]) #sorting in ascending order\n",
        "print('Most likely class:',number_to_class[index[9]],'--probability',probabilities[0,index[9]]*100)\n",
        "print('Second Most likely class:',number_to_class[index[8]],'--probability',probabilities[0,index[8]]*100 )\n",
        "print('Third Most likely class:',number_to_class[index[7]],'--probability',probabilities[0,index[7]]*100 )"
      ],
      "execution_count": null,
      "outputs": [
        {
          "output_type": "stream",
          "text": [
            "Most likely class: Truck --probability 99.9921441078186\n",
            "Second Most likely class: Ship --probability 0.007624169666087255\n",
            "Third Most likely class: Horse --probability 0.00013245478385215392\n"
          ],
          "name": "stdout"
        }
      ]
    },
    {
      "cell_type": "code",
      "metadata": {
        "id": "xZo_EIF0Tm-v",
        "colab_type": "code",
        "colab": {}
      },
      "source": [
        "#Save the model \n",
        "model.save('image_classifer.h5')"
      ],
      "execution_count": null,
      "outputs": []
    },
    {
      "cell_type": "code",
      "metadata": {
        "id": "wW11xSlCUq0a",
        "colab_type": "code",
        "colab": {}
      },
      "source": [
        "#Load the mode \n",
        "from keras.models import load_model\n",
        "model= load_model('image_classifer.h5')"
      ],
      "execution_count": null,
      "outputs": []
    },
    {
      "cell_type": "code",
      "metadata": {
        "id": "MaaPPiirU0YD",
        "colab_type": "code",
        "colab": {}
      },
      "source": [
        ""
      ],
      "execution_count": null,
      "outputs": []
    }
  ]
}